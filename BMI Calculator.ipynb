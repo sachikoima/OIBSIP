{
 "cells": [
  {
   "cell_type": "code",
   "execution_count": 1,
   "id": "c994f646",
   "metadata": {},
   "outputs": [
    {
     "name": "stdout",
     "output_type": "stream",
     "text": [
      "Enter your weight in pounds: 120\n",
      "Enter your height in pounds: 63\n",
      "21.25472411186697\n",
      "You are Normal weight.\n"
     ]
    }
   ],
   "source": [
    "Weight = int(input(\"Enter your weight in pounds: \"))\n",
    "\n",
    "Height = int(input(\"Enter your height in pounds: \"))\n",
    "\n",
    "BMI =(Weight * 703) / (Height * Height)\n",
    "print(BMI)\n",
    "\n",
    "if BMI>0:\n",
    "    if(BMI<18.5):\n",
    "        print(\"You are Underweight.\")\n",
    "    elif(BMI<=24.9):\n",
    "        print(\"You are Normal weight.\")\n",
    "    elif(BMI<29.9):\n",
    "        print(\"You are Overweight.\")\n",
    "    elif(BMI<30):\n",
    "        print(\"You are Obese.\")\n",
    "    else:\n",
    "        print(\"You are morbidly obese.\")\n",
    "else:\n",
    "     print(\"Enter valid input\")"
   ]
  },
  {
   "cell_type": "code",
   "execution_count": null,
   "id": "f2350449",
   "metadata": {},
   "outputs": [],
   "source": []
  }
 ],
 "metadata": {
  "kernelspec": {
   "display_name": "Python 3 (ipykernel)",
   "language": "python",
   "name": "python3"
  },
  "language_info": {
   "codemirror_mode": {
    "name": "ipython",
    "version": 3
   },
   "file_extension": ".py",
   "mimetype": "text/x-python",
   "name": "python",
   "nbconvert_exporter": "python",
   "pygments_lexer": "ipython3",
   "version": "3.10.9"
  }
 },
 "nbformat": 4,
 "nbformat_minor": 5
}
